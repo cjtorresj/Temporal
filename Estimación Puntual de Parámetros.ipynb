{
 "cells": [
  {
   "cell_type": "markdown",
   "metadata": {},
   "source": [
    "# Estimación Puntual de Parámetros\n",
    "\n",
    "Camilo José Torres Jiménez\n",
    "\n",
    "Segundo Semestre de 2019"
   ]
  },
  {
   "cell_type": "markdown",
   "metadata": {
    "slideshow": {
     "slide_type": "slide"
    }
   },
   "source": [
    "El objetivo de la **estimación puntual de parámetros** es obtener, a partir de la muestra, un valor que pueda ser una \"buena\" aproximación de un parámetro, o una función de este, asociado al modelo que se asumió.\n",
    "\n",
    "**Estimador puntual**: Un estimador puntual de un parámetro $\\theta$, o una función $\\mathrm{g}(\\theta)$, es una función de una muestra aleatoria $\\mathrm{T} \\left( X_1, \\dots, X_n \\right)$.\n",
    "\n",
    "**Estimación puntual**: Una estimación puntual $\\hat{\\theta}$ de un parámetro $\\theta$ es el valor que toma un estimador puntual dada una realización de la muestra aleatoria."
   ]
  },
  {
   "cell_type": "markdown",
   "metadata": {
    "slideshow": {
     "slide_type": "fragment"
    }
   },
   "source": [
    "<span style=\"color:red\">¿Cómo obtengo una función de la muestra aleatoria que me sea de utilidad en la estimación de parámetros?</span>"
   ]
  },
  {
   "cell_type": "markdown",
   "metadata": {
    "slideshow": {
     "slide_type": "slide"
    }
   },
   "source": [
    "## Método de Máxima Verosimilitud\n",
    "\n",
    "**Función de verosimilitud**: La función de verosimilitud es la función de densidad conjunta de las variables aleatorias $X_1, \\dots, X_n$.\n",
    "\n",
    "Sea $X_1 \\dots, X_n$ una muestra aleatoria de una población con función de densidad (o de masa de probabilidad) $\\mathrm{f}_X(x, \\theta)$, con $\\theta \\in \\Theta$, la **función de verosimilitud de la muestra aleatoria** se denota y corresponde a:\n",
    "$$ \\mathrm{L}\\left(\\theta; x_1, \\dots, x_n \\right) = \\mathrm{f}_{X_1,\\dots,X_n}(x_1,\\dots,x_n,\\theta) = \\prod_{i=1}^{n} \\mathrm{f}_X(x_i, \\theta) $$ \n",
    "donde $x_1, \\dots, x_n$ son realizaciones de las variables aleatorias que constituyen la muestra aleatoria, es decir los valores ya observados o los datos con que se cuenta, por lo tanto se asumen fijos en la función de verosimilitud.\n",
    "\n",
    "Se dice que el estimador $\\mathrm{T}(X_1 \\dots, X_n)$ es el **estimador máximo-verosímil** de $\\theta$, **Maximum-Likelihood Estimator (MLE)** de $\\theta$, si al tomar $\\theta = T(x_1 \\dots, x_n)$ se obtiene el supremo de la función de verosimilitud de la muestra aleatoria, es decir,\n",
    "$$ . $$"
   ]
  },
  {
   "cell_type": "markdown",
   "metadata": {
    "slideshow": {
     "slide_type": "slide"
    }
   },
   "source": [
    "## Método de Momentos"
   ]
  },
  {
   "cell_type": "markdown",
   "metadata": {
    "slideshow": {
     "slide_type": "slide"
    }
   },
   "source": [
    "## Otros Métodos"
   ]
  }
 ],
 "metadata": {
  "celltoolbar": "Slideshow",
  "kernelspec": {
   "display_name": "R",
   "language": "R",
   "name": "ir"
  },
  "language_info": {
   "codemirror_mode": "r",
   "file_extension": ".r",
   "mimetype": "text/x-r-source",
   "name": "R",
   "pygments_lexer": "r",
   "version": "3.6.0"
  }
 },
 "nbformat": 4,
 "nbformat_minor": 2
}

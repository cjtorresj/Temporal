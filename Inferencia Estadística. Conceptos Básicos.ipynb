{
 "cells": [
  {
   "cell_type": "markdown",
   "metadata": {
    "slideshow": {
     "slide_type": "slide"
    }
   },
   "source": [
    "# Inferencia Estadística: Conceptos Básicos\n",
    "\n",
    "Camilo José Torres Jiménez\n",
    "\n",
    "Segundo Semestre de 2019"
   ]
  },
  {
   "cell_type": "markdown",
   "metadata": {
    "slideshow": {
     "slide_type": "slide"
    }
   },
   "source": [
    "<img src=\"EsquemaEstadistica.jpg\" width=\"700\" height=\"600\">"
   ]
  },
  {
   "cell_type": "markdown",
   "metadata": {
    "slideshow": {
     "slide_type": "slide"
    }
   },
   "source": [
    "<img src=\"EsquemaFormalInferencia.jpg\" width=\"700\" height=\"600\">"
   ]
  },
  {
   "cell_type": "markdown",
   "metadata": {
    "slideshow": {
     "slide_type": "slide"
    }
   },
   "source": [
    "## Muestra Aleatoria\n",
    "Si $X_1, X_2, \\dots, X_n$ son $n$ variables aleatorias independientes e igualmente distribuidas con distribución $\\mathrm{F}_X(x)$, entonces $X_1, X_2, \\dots, X_n$ es una muestra aleatoria, de tamaño $n$, de la población con distribución $\\mathrm{F}_X(x)$."
   ]
  },
  {
   "cell_type": "code",
   "execution_count": 1,
   "metadata": {
    "slideshow": {
     "slide_type": "fragment"
    }
   },
   "outputs": [
    {
     "data": {
      "text/html": [
       "<ol class=list-inline>\n",
       "\t<li>M</li>\n",
       "\t<li>M</li>\n",
       "\t<li>M</li>\n",
       "\t<li>H</li>\n",
       "\t<li>M</li>\n",
       "\t<li>M</li>\n",
       "\t<li>M</li>\n",
       "\t<li>H</li>\n",
       "\t<li>M</li>\n",
       "\t<li>M</li>\n",
       "</ol>\n",
       "\n",
       "<details>\n",
       "\t<summary style=display:list-item;cursor:pointer>\n",
       "\t\t<strong>Levels</strong>:\n",
       "\t</summary>\n",
       "\t<ol class=list-inline>\n",
       "\t\t<li>'H'</li>\n",
       "\t\t<li>'M'</li>\n",
       "\t</ol>\n",
       "</details>"
      ],
      "text/latex": [
       "\\begin{enumerate*}\n",
       "\\item M\n",
       "\\item M\n",
       "\\item M\n",
       "\\item H\n",
       "\\item M\n",
       "\\item M\n",
       "\\item M\n",
       "\\item H\n",
       "\\item M\n",
       "\\item M\n",
       "\\end{enumerate*}\n",
       "\n",
       "\\emph{Levels}: \\begin{enumerate*}\n",
       "\\item 'H'\n",
       "\\item 'M'\n",
       "\\end{enumerate*}\n"
      ],
      "text/markdown": [
       "1. M\n",
       "2. M\n",
       "3. M\n",
       "4. H\n",
       "5. M\n",
       "6. M\n",
       "7. M\n",
       "8. H\n",
       "9. M\n",
       "10. M\n",
       "\n",
       "\n",
       "\n",
       "**Levels**: 1. 'H'\n",
       "2. 'M'\n",
       "\n",
       "\n"
      ],
      "text/plain": [
       " [1] M M M H M M M H M M\n",
       "Levels: H M"
      ]
     },
     "metadata": {},
     "output_type": "display_data"
    },
    {
     "data": {
      "text/plain": [
       "muestra\n",
       "H M \n",
       "2 8 "
      ]
     },
     "metadata": {},
     "output_type": "display_data"
    }
   ],
   "source": [
    "### Supongamos que la variable de interés toma los valores \"H\" (0) y \"M\" (1)\n",
    "### y tiene una distribución Bernoulli de parámetro p (entre 0.4 y 0.6)\n",
    "p <- runif(1, 0.4, 0.6)\n",
    "### Tamaño de muestra\n",
    "n <- 10\n",
    "### Una realización de la muestra aleatoria de tamaño n\n",
    "muestra <- rbinom(n, size = 1, prob = p)\n",
    "###\n",
    "(muestra <- factor(muestra, levels = c(0, 1), labels = c(\"H\", \"M\")))\n",
    "table(muestra)"
   ]
  },
  {
   "cell_type": "markdown",
   "metadata": {
    "slideshow": {
     "slide_type": "fragment"
    }
   },
   "source": [
    "<span style=\"color:red\">¿Cómo se deben seleccionar los individuos para que se cumpla la definición de muestra aleatoria?</span>"
   ]
  },
  {
   "cell_type": "markdown",
   "metadata": {
    "slideshow": {
     "slide_type": "slide"
    }
   },
   "source": [
    "## Muestreo Aleatorio Simple\n",
    "### Población Finita\n",
    "Una muestra aleatoria simple de tamaño $n$ de una población finita de tamaño $N$ es aquella que es seleccionada de tal manera que cada posible muestra (de tamaño $n$) tiene la misma probabilidad de ser seleccionada.\n",
    "### Población Infinita\n",
    "Cada individuo se selecciona de manera independiente."
   ]
  },
  {
   "cell_type": "markdown",
   "metadata": {
    "slideshow": {
     "slide_type": "subslide"
    }
   },
   "source": [
    "### Apoyarse en la generación de valores aleatorios:\n",
    "* Calculadora (Función: RAN#)\n",
    "* Excel (Funciones: RAND() y RANDBETWEEN())\n",
    "* R (Funciones: sample, sampling::strata, ...)"
   ]
  },
  {
   "cell_type": "code",
   "execution_count": 2,
   "metadata": {
    "slideshow": {
     "slide_type": "fragment"
    }
   },
   "outputs": [
    {
     "name": "stdout",
     "output_type": "stream",
     "text": [
      "Muestreo aleatorio simple sin repetición:\n",
      "[1] \"35, 18, 136, 133, 139, 166, 68, 39, 107, 173, 123, 141, 192, 160, 85, 56, 135, 73, 183, 152\"\n",
      "Muestreo aleatorio simple con repetición:\n",
      "[1] \"135, 84, 57, 69, 141, 101, 182, 167, 140, 103, 156, 5, 28, 2, 126, 63, 58, 149, 151, 77\"\n"
     ]
    }
   ],
   "source": [
    "### Tamaño de la población\n",
    "N <- 200\n",
    "### Tamaño de la muestra\n",
    "n <- 20\n",
    "### Muestreo aleatorio simple sin repetición\n",
    "ind.sr <- sample(1:N, n)\n",
    "cat(\"Muestreo aleatorio simple sin repetición:\\n\")\n",
    "print(paste(ind.sr, collapse = \", \"))\n",
    "### Muestreo aleatorio simple con repetición\n",
    "ind.cr <- sample(1:N, n)\n",
    "cat(\"Muestreo aleatorio simple con repetición:\\n\")\n",
    "print(paste(ind.cr, collapse = \", \"))"
   ]
  },
  {
   "cell_type": "markdown",
   "metadata": {
    "slideshow": {
     "slide_type": "slide"
    }
   },
   "source": [
    "## Muestreo Estratificado\n",
    "Los individuos de la población se pueden dividir en grupos homogéneos y es importante tener representantes de cada uno de estos grupos. Se toma una muestra de individuos de cada grupo proporcional al tamaño del grupo.\n",
    "\n",
    "## Muestreo por Conglomerados\n",
    "Los individuos de la población están divididos en segmentos que no necesariamente son homogéneos, cada segmento es una buena representación en menor escala del comportamiento de toda la población y por lo tanto no es necesario tomar individuos de todos los segmentos, es suficiente hacerlo para algunos. Se toma una muestra de los segmentos y luego se toman los individuos.\n",
    "\n",
    "## Muestreo Sistemático\n",
    "Los elementos de la población son seleccionados de manera sistemática a través de la población. La idea es tomar aleatoriamente un individuo por cada cierto número de individuos, es decir, tomo aleatoriamente un individuo de los primeros $k$, luego uno de los siguientes $k$ y así sucesivamente."
   ]
  },
  {
   "cell_type": "markdown",
   "metadata": {
    "slideshow": {
     "slide_type": "slide"
    }
   },
   "source": [
    "<img src=\"EsquemaFormalInferencia.jpg\" width=\"700\" height=\"600\">"
   ]
  },
  {
   "cell_type": "markdown",
   "metadata": {
    "slideshow": {
     "slide_type": "slide"
    }
   },
   "source": [
    "## Estadística\n",
    "Una estadística es una función de variables aleatorias (observables) que no depende de parámetros o constantes desconocidas.\n",
    "## Estimador\n",
    "Un estimador es una estadística cuyas realizaciones son utilizadas para realizar algún tipo de inferencia con respecto a los parámetros asociados al modelo probabilístico que se asumió.\n",
    "## Estimación\n",
    "Una estimación es una realización de un estimador. Una estimación es el valor que toma el estimador para una realización de la muestra aleatoria.\n",
    "## Distribución muestral\n",
    "Una distribución muestral es la distribución de una estadística o de un estimador."
   ]
  }
 ],
 "metadata": {
  "celltoolbar": "Slideshow",
  "kernelspec": {
   "display_name": "R",
   "language": "R",
   "name": "ir"
  },
  "language_info": {
   "codemirror_mode": "r",
   "file_extension": ".r",
   "mimetype": "text/x-r-source",
   "name": "R",
   "pygments_lexer": "r",
   "version": "3.6.0"
  }
 },
 "nbformat": 4,
 "nbformat_minor": 4
}

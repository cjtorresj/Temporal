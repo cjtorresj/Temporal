{
 "cells": [
  {
   "cell_type": "markdown",
   "metadata": {
    "slideshow": {
     "slide_type": "slide"
    }
   },
   "source": [
    "# Familia Exponencial\n",
    "\n",
    "Camilo José Torres Jiménez\n",
    "\n",
    "Agosto 2019"
   ]
  },
  {
   "cell_type": "markdown",
   "metadata": {
    "slideshow": {
     "slide_type": "slide"
    }
   },
   "source": [
    "## Familia Exponencial uniparamétrica\n",
    "\n",
    "\n",
    "**Definición**: Una distribución de probabilidad con parámetro $\\theta$ pertenece a la familia exponencial uniparamétrica si la función de densidad se puede escribir de la forma,\n",
    "$$\\mathrm{f}_X(x; \\theta) = \\mathrm{h}(x) \\, \\mathrm{c}(\\theta) \\, \\exp \\left( \\mathrm{d}(\\theta) \\, \\mathrm{T}(x) \\right)$$\n",
    "o de la forma,\n",
    "$$\\mathrm{f}_X(x; \\theta) = \\exp \\left( \\mathrm{d}(\\theta) \\, \\mathrm{T}(x) - \\mathrm{c}(\\theta) \\right) \\, \\mathrm{h}(x)$$\n",
    "donde $\\mathrm{T}(x)$ y $\\mathrm{h}(x)$ son funciones que dependen únicamente de $x$, y $\\mathrm{d}(\\theta)$ y $\\mathrm{c}(\\theta)$ son funciones que dependen únicamente de $\\theta$."
   ]
  },
  {
   "cell_type": "markdown",
   "metadata": {
    "slideshow": {
     "slide_type": "fragment"
    }
   },
   "source": [
    "**Resultado**: Si $X_1, \\dots, X_n$ son variables aleatorias identicamente distribuidas con función de densidad común pertenenciente a la familia exponencial uniparamétrica, entonces la función de densidad conjunta $\\mathrm{f}_X(x_1, \\dots, x_n)$ también pertenece a la familia exponencial uniparamétrica."
   ]
  },
  {
   "cell_type": "markdown",
   "metadata": {
    "slideshow": {
     "slide_type": "fragment"
    }
   },
   "source": [
    "**Resultado**: Si $X$ es una variable aleatoria con función de densidad perteneciente a la familia exponencial uniparamétrica, entonces\n",
    "$$E \\left[ \\frac{\\partial \\mathrm{d}(\\theta)}{\\partial \\theta} \\mathrm{T}(X) \\right] = - \\frac{\\partial}{\\partial \\theta} \\ln \\left( \\mathrm{c}(\\theta) \\right)$$\n",
    "$$Var \\left[ \\frac{\\partial \\mathrm{d}(\\theta)}{\\partial \\theta} \\mathrm{T}(X) \\right] = - \\frac{\\partial^2}{\\partial^2 \\theta} \\ln \\left( \\mathrm{c}(\\theta) \\right) - E \\left[ \\frac{\\partial^2 \\mathrm{d}(\\theta)}{\\partial^2 \\theta} \\mathrm{T}(X) \\right].$$"
   ]
  },
  {
   "cell_type": "markdown",
   "metadata": {
    "slideshow": {
     "slide_type": "slide"
    }
   },
   "source": [
    "## Familia Exponencial multiparamétrica\n",
    "\n",
    "**Definición**: Una distribución de probabilidad pertenece a la familia exponencial multiparamétrica si la función de densidad se puede escribir de la forma,\n",
    "$$ \\mathrm{f}_X(x; \\boldsymbol{\\theta}) = \\mathrm{h}(x) \\, \\mathrm{c}(\\boldsymbol{\\theta}) \\, \\exp \\left( \\mathrm{d}(\\boldsymbol{\\theta})' \\, \\mathrm{T}(x) \\right)$$\n",
    "donde $\\mathrm{T}(x)$ y $\\mathrm{\\boldsymbol{\\theta}}$ son funciones vectoriales, y $\\mathrm{h}(x)$ y $\\mathrm{c}(\\boldsymbol{\\theta})$ son funciones reales."
   ]
  },
  {
   "cell_type": "markdown",
   "metadata": {
    "slideshow": {
     "slide_type": "slide"
    }
   },
   "source": [
    "## Algunas distribuciones que pertenecen a la familia exponencial\n",
    "\n",
    "* Binomial con el paramétro $n$ (número de ensayos o repeticiones) conocido\n",
    "* Poisson\n",
    "* Binomial Negativa con el paramétro $r$ (número de fallos) conocido\n",
    "* Weibull con el parámetro de forma $k$ conocido\n",
    "* Laplace con media conocida\n",
    "* Normal con varianza conocida\n",
    "* Normal\n",
    "* lognormal\n",
    "* Gamma, Ji/Chi-cuadrado y Exponencial\n",
    "* Beta\n",
    "* Normal multivariada\n",
    "* Multinomial con el paramétro $n$ (número de ensayos o repeticiones) conocido\n",
    "* Dirichlet\n",
    "* Wishart\n"
   ]
  }
 ],
 "metadata": {
  "celltoolbar": "Slideshow",
  "kernelspec": {
   "display_name": "R",
   "language": "R",
   "name": "ir"
  },
  "language_info": {
   "codemirror_mode": "r",
   "file_extension": ".r",
   "mimetype": "text/x-r-source",
   "name": "R",
   "pygments_lexer": "r",
   "version": "3.6.0"
  }
 },
 "nbformat": 4,
 "nbformat_minor": 2
}

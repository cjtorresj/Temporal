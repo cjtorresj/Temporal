{
 "cells": [
  {
   "cell_type": "markdown",
   "metadata": {
    "slideshow": {
     "slide_type": "slide"
    }
   },
   "source": [
    "# Inverse Transform Sampling and Probability Inverse Transform\n",
    "\n",
    "Camilo José Torres Jiménez\n",
    "\n",
    "Segundo Semestre de 2019"
   ]
  },
  {
   "cell_type": "markdown",
   "metadata": {
    "slideshow": {
     "slide_type": "slide"
    }
   },
   "source": [
    "# Inverse Transform Sampling. Ej: Distribución Exponencial\n",
    "\n",
    "Si $U \\sim \\mathcal{U}(0,1)$, $F(.)$ es una función de distribución acumulativa y $F^{-}(u) = \\inf \\left\\{ x : F(x) \\geq u \\right\\}$ para $0 < u < 1$, entonces la variable aleatoria $X = F^-(U)$ tiene como función de distribución acumulativa $F(.)$."
   ]
  },
  {
   "cell_type": "markdown",
   "metadata": {
    "slideshow": {
     "slide_type": "slide"
    }
   },
   "source": [
    "## Generar n realizaciones de una variable aleatoria uniforme"
   ]
  },
  {
   "cell_type": "code",
   "execution_count": 49,
   "metadata": {
    "slideshow": {
     "slide_type": "fragment"
    }
   },
   "outputs": [],
   "source": [
    "### Número de realizaciones a generar\n",
    "n <- 10000\n",
    "### Generar las n realizaciones para una distribución uniforme\n",
    "u <- runif(n)"
   ]
  },
  {
   "cell_type": "markdown",
   "metadata": {
    "slideshow": {
     "slide_type": "slide"
    }
   },
   "source": [
    "## Histograma de las realizaciones generadas"
   ]
  },
  {
   "cell_type": "code",
   "execution_count": 50,
   "metadata": {
    "slideshow": {
     "slide_type": "fragment"
    }
   },
   "outputs": [
    {
     "data": {
      "image/png": "[encoded data removed]",
      "text/plain": [
       "Plot with title \"Histograma de las realizaciones de una variable aleatoria uniforme\""
      ]
     },
     "metadata": {},
     "output_type": "display_data"
    }
   ],
   "source": [
    "### Cambia el tamaño del gráfico\n",
    "options(repr.plot.width = 9, repr.plot.height = 4)\n",
    "### Produce el histograma\n",
    "hist(u, main=\"Histograma de las realizaciones de una variable aleatoria uniforme\", \n",
    "     freq=FALSE, breaks = 20)\n",
    "### Produce la linea asociada a la función de densidad teórica de una distribución\n",
    "### uniforme continua\n",
    "lines(c(0,1), c(1,1), col=\"blue\")"
   ]
  },
  {
   "cell_type": "markdown",
   "metadata": {
    "slideshow": {
     "slide_type": "slide"
    }
   },
   "source": [
    "## Función de distribución acumulativa de una variable aleatoria exponencial"
   ]
  },
  {
   "cell_type": "code",
   "execution_count": 51,
   "metadata": {
    "slideshow": {
     "slide_type": "fragment"
    }
   },
   "outputs": [
    {
     "data": {
      "image/png": "[encoded data removed]",
      "text/plain": [
       "Plot with title \"1 - exp(-x/theta)\""
      ]
     },
     "metadata": {},
     "output_type": "display_data"
    }
   ],
   "source": [
    "### Crear la función de distribución acumulativa asociada a la exponencial\n",
    "F.exp <- function(x, scale = 1){ 1 - exp(-x/scale) }\n",
    "### Cambia el tamaño del gráfico\n",
    "options(repr.plot.width = 9, repr.plot.height = 3)\n",
    "### theta_1 será el valor para el parámetro de escala\n",
    "theta_1 <- 0.75\n",
    "### Produce el gráfico de la función creada\n",
    "curve(F.exp(x, scale = theta_1), 0, 5, 1e5, ylim = c(0, 1), ylab = \"F\", \n",
    "      col = \"yellow\", bty=\"none\", main = expression(1-exp(-x/theta)))"
   ]
  },
  {
   "cell_type": "code",
   "execution_count": 52,
   "metadata": {
    "slideshow": {
     "slide_type": "subslide"
    }
   },
   "outputs": [
    {
     "data": {
      "image/png": "[encoded data removed]",
      "text/plain": [
       "Plot with title \"1 - exp(-x/theta)\""
      ]
     },
     "metadata": {},
     "output_type": "display_data"
    }
   ],
   "source": [
    "### Produce el mismo gráfico pero a partir de la función existente en R (pexp)\n",
    "curve(pexp(x, rate = 1/theta_1), 0, 5, 1e5, ylim = c(0, 1), ylab = \"F\", \n",
    "      col = \"red\", bty=\"none\", main = expression(1-exp(-x/theta)))"
   ]
  },
  {
   "cell_type": "markdown",
   "metadata": {
    "slideshow": {
     "slide_type": "slide"
    }
   },
   "source": [
    "## Función cuantil de una variable aleatoria exponencial"
   ]
  },
  {
   "cell_type": "code",
   "execution_count": 53,
   "metadata": {
    "slideshow": {
     "slide_type": "fragment"
    }
   },
   "outputs": [
    {
     "data": {
      "image/png": "[encoded data removed]",
      "text/plain": [
       "Plot with title \"-theta * ln(1 - x)\""
      ]
     },
     "metadata": {},
     "output_type": "display_data"
    }
   ],
   "source": [
    "### Crear la función de distribución acumulativa asociada a la exponencial\n",
    "Q.exp <- function(p, scale = 1){ -scale * log(1 - p) }\n",
    "### Cambia el tamaño del gráfico\n",
    "options(repr.plot.width = 9, repr.plot.height = 3)\n",
    "### theta_1 será el valor para el parámetro de escala\n",
    "theta_1 <- 0.75\n",
    "### Produce el gráfico de la función creada\n",
    "curve(Q.exp(x, scale = theta_1), 0, 1, 1e5, ylim = c(0, 5), xlab = \"x\",\n",
    "      ylab = expression(F^-1), col = \"yellow\", bty=\"none\", \n",
    "      main = expression(-theta * ln(1-x)))"
   ]
  },
  {
   "cell_type": "code",
   "execution_count": 54,
   "metadata": {
    "slideshow": {
     "slide_type": "subslide"
    }
   },
   "outputs": [
    {
     "data": {
      "image/png": "[encoded data removed]",
      "text/plain": [
       "Plot with title \"-theta * ln(1 - x)\""
      ]
     },
     "metadata": {},
     "output_type": "display_data"
    }
   ],
   "source": [
    "### Produce el mismo gráfico pero a partir de la función existente en R (qexp)\n",
    "curve(qexp(x, rate = 1/theta_1), 0, 1, 1e5, ylim = c(0, 5), xlab = \"x\",\n",
    "      ylab = expression(F^-1), col = \"red\", bty=\"none\", \n",
    "      main = expression(-theta * ln(1-x)))"
   ]
  },
  {
   "cell_type": "markdown",
   "metadata": {
    "slideshow": {
     "slide_type": "slide"
    }
   },
   "source": [
    "## Generar n realizaciones de una variable aleatoria exponencial"
   ]
  },
  {
   "cell_type": "code",
   "execution_count": 55,
   "metadata": {
    "slideshow": {
     "slide_type": "fragment"
    }
   },
   "outputs": [
    {
     "data": {
      "image/png": "[encoded data removed]",
      "text/plain": [
       "Plot with title \"Histograma de la transformación inversa y función de densidad exponencial\""
      ]
     },
     "metadata": {},
     "output_type": "display_data"
    }
   ],
   "source": [
    "### Cambia el tamaño del gráfico\n",
    "options(repr.plot.width = 9, repr.plot.height = 4)\n",
    "### Histograma de los valores resultantes al aplicar la función cuantil\n",
    "### a las realizaciones de una v.a. uniforme\n",
    "Finv_u <- Q.exp(u, theta_1)\n",
    "hist(Finv_u, freq = FALSE, breaks = 40, ylim = c(0, 1.4),\n",
    "     main = \"Histograma de la transformación inversa y función de densidad exponencial\")\n",
    "### Función de densidad asociada a la distribución exponencial\n",
    "curve(exp(-x/theta_1)/theta_1, min(Finv_u), max(Finv_u), add = TRUE, \n",
    "      n = 1e5, lty = 2, col = \"blue\")"
   ]
  },
  {
   "cell_type": "code",
   "execution_count": 56,
   "metadata": {
    "slideshow": {
     "slide_type": "subslide"
    }
   },
   "outputs": [
    {
     "data": {
      "image/png": "[encoded data removed]",
      "text/plain": [
       "Plot with title \"Histograma de las realizaciones de una variable aleatoria exponencial\""
      ]
     },
     "metadata": {},
     "output_type": "display_data"
    }
   ],
   "source": [
    "### Generar las n realizaciones para una distribución exponencial usando\n",
    "### la funcion existente en R (rexp)\n",
    "x.exp <- rexp(n, rate = 1/theta_1)\n",
    "### Cambia el tamaño del gráfico\n",
    "options(repr.plot.width = 9, repr.plot.height = 4)\n",
    "### Histograma de los valores generados asociados a una distribucion exponencial \n",
    "hist(x.exp, freq = FALSE, breaks = 40, ylim = c(0, 1.4), \n",
    "     main = \"Histograma de las realizaciones de una variable aleatoria exponencial\")\n",
    "### Función de densidad asociada a la distribución exponencial usando \n",
    "### la funcion dexp de R\n",
    "curve(dexp(x, rate=1/theta_1), min(x.exp), max(x.exp), add = TRUE, \n",
    "      n = 1e5, lty = 2, col = \"blue\")"
   ]
  },
  {
   "cell_type": "markdown",
   "metadata": {
    "slideshow": {
     "slide_type": "slide"
    }
   },
   "source": [
    "# Probability Inverse Transform. Ej: Distribución BMT\n",
    "Si $X$ es una variable aleatoria continua con función de distribución acumulativa $F_X(.)$, entonces la variable aleatoria $U = F_X(X)$ tiene distribución uniforme continua en $(0,1)$."
   ]
  },
  {
   "cell_type": "markdown",
   "metadata": {
    "slideshow": {
     "slide_type": "slide"
    }
   },
   "source": [
    "## Generar n realizaciones de una variable aleatoria con distribución BMT"
   ]
  },
  {
   "cell_type": "code",
   "execution_count": 57,
   "metadata": {
    "slideshow": {
     "slide_type": "fragment"
    }
   },
   "outputs": [],
   "source": [
    "### Instalar y cargar la libreria de la distribución BMT\n",
    "if(!require(BMT)) { install.packages(\"BMT\"); require(BMT) }\n",
    "library(BMT)\n",
    "\n",
    "### Número de realizaciones a generar\n",
    "n <- 10000\n",
    "### Los parámetros de la distribución BMT podrían ser fijos o generados aleatoriamente\n",
    "kappa_l <- runif(1)\n",
    "kappa_r <- runif(1)\n",
    "### Generamos n realizaciones para una distribución BMT de parámetros kappa_l y kappa_r\n",
    "x.BMT <- rBMT(n, kappa_l, kappa_r)"
   ]
  },
  {
   "cell_type": "markdown",
   "metadata": {
    "slideshow": {
     "slide_type": "slide"
    }
   },
   "source": [
    "## Histograma de las realizaciones BMT generadas"
   ]
  },
  {
   "cell_type": "code",
   "execution_count": 58,
   "metadata": {
    "slideshow": {
     "slide_type": "fragment"
    }
   },
   "outputs": [
    {
     "data": {
      "image/png": "[encoded data removed]",
      "text/plain": [
       "Plot with title \"Histograma de las realizaciones de una variable aleatoria BMT\n",
       "kappa_l = 0.9206 kappa_r = 0.0422\""
      ]
     },
     "metadata": {},
     "output_type": "display_data"
    }
   ],
   "source": [
    "### Cambia el tamaño del gráfico\n",
    "options(repr.plot.width = 9, repr.plot.height = 4)\n",
    "### Produce el histograma de las realizaciones generadas\n",
    "hist(x.BMT, freq = FALSE, breaks = 20, \n",
    "     main = paste0(\"Histograma de las realizaciones de una variable aleatoria BMT\\n\", \n",
    "                   \"kappa_l = \", round(kappa_l, 4), \" kappa_r = \", round(kappa_r, 4)))\n",
    "### Función de densidad de la distribución BMT con los parámetros kappa_l y kappa_r\n",
    "curve(dBMT(x, kappa_l, kappa_r), add = TRUE, col = \"blue\")"
   ]
  },
  {
   "cell_type": "markdown",
   "metadata": {
    "slideshow": {
     "slide_type": "slide"
    }
   },
   "source": [
    "## Histograma de las realizaciones BMT transformadas"
   ]
  },
  {
   "cell_type": "code",
   "execution_count": 59,
   "metadata": {
    "slideshow": {
     "slide_type": "fragment"
    }
   },
   "outputs": [
    {
     "data": {
      "image/png": "[encoded data removed]",
      "text/plain": [
       "Plot with title \"Histograma de las realizaciones BMT transformadas\""
      ]
     },
     "metadata": {},
     "output_type": "display_data"
    }
   ],
   "source": [
    "### Histograma de los valores resultantes al aplicar la función de distribución acumulativa de una variable aleatoria BMT\n",
    "### a las realizaciones generadas\n",
    "F.BMT_x.BMT <- pBMT(x.BMT, kappa_l, kappa_r)\n",
    "hist(F.BMT_x.BMT, freq=FALSE, breaks = 20, \n",
    "     main=\"Histograma de las realizaciones BMT transformadas\")\n",
    "### Produce la linea asociada a la función de densidad teórica de una distribución uniforme continua\n",
    "lines(c(0,1), c(1,1), col=\"blue\")"
   ]
  },
  {
   "cell_type": "markdown",
   "metadata": {
    "slideshow": {
     "slide_type": "slide"
    }
   },
   "source": [
    "## Histograma de las realizaciones BMT llevadas a la normal estándar (Inverse Transform. Ej: Distribución Normal Estándar)"
   ]
  },
  {
   "cell_type": "code",
   "execution_count": 60,
   "metadata": {
    "slideshow": {
     "slide_type": "fragment"
    }
   },
   "outputs": [
    {
     "data": {
      "image/png": "[encoded data removed]",
      "text/plain": [
       "Plot with title \"Histograma de las realizaciones BMT llevadas a la normal estándar\""
      ]
     },
     "metadata": {},
     "output_type": "display_data"
    }
   ],
   "source": [
    "### Histograma de los valores resultantes al aplicar la función cuantil de una normal estándar \n",
    "### a las realizaciones BMT transformadas\n",
    "Finv.norm_F.BMT_x.BMT <- qnorm(F.BMT_x.BMT, 0, 1)\n",
    "hist(Finv.norm_F.BMT_x.BMT, freq=FALSE, breaks = 40, xlim = c(-4, 4), \n",
    "     main=\"Histograma de las realizaciones BMT llevadas a la normal estándar\")\n",
    "### Función de densidad asociada a la distribución normal estándar\n",
    "curve(dnorm(x, 0, 1), add = TRUE, col = \"blue\")"
   ]
  }
 ],
 "metadata": {
  "celltoolbar": "Slideshow",
  "kernelspec": {
   "display_name": "R",
   "language": "R",
   "name": "ir"
  },
  "language_info": {
   "codemirror_mode": "r",
   "file_extension": ".r",
   "mimetype": "text/x-r-source",
   "name": "R",
   "pygments_lexer": "r",
   "version": "3.6.0"
  }
 },
 "nbformat": 4,
 "nbformat_minor": 2
}
